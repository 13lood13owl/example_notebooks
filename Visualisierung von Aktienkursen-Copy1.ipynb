{
 "cells": [
  {
   "cell_type": "markdown",
   "metadata": {},
   "source": [
    "# Visualisierung von Aktienkursen\n",
    "\n",
    "## Einleitungsvideo\n",
    "\n",
    "Ein einleitendes Video zur Übungsaufgabe ist unter folgendem Link verfügbar:\n",
    "\n",
    "https://drive.google.com/file/d/19mIZSnuaQDl2_N6IuNx3C1VxFjFcl9oz/view\n",
    "\n",
    "\n",
    "## Einleitung\n",
    "\n",
    "Egal ob zur Vorhersage, zur Analyse oder zur Entscheidungsfindung - im Zentrum der Datenanalyse steht die Visualisierung der Daten. Dies gilt gleichermaßen für das Vorhersagen von Verkaufs- und Produktionszahlen, für die Analyse von Kundenaufkommen und Nutzerverhalten sowie für Aktienkurse.\n",
    "\n",
    "In dieser Übungsaufgabe beschäftigen wir uns mit letzterem. Bespielhaft fokussieren wir uns auf den Aktienkurs von Facebook über den Verlauf des zurückliegenden Monats. Erforderlich zur Bearbeitung der Aufgabe sind ein grundlegendes Verständnis von Daten des Aktienmarktes sowie Python-Grundkenntnisse - alles andere ergibt sich Schritt für Schritt innerhalb der Aufgabe. Im Zuge der Aufgabe werden wir lernen\n",
    "- den Aufbau und die Struktur von sogenannten CSV-Dateien zu verstehen\n",
    "- durch Benutzung einer geeigneten Python-Bibliothek (Pandas) diese CSV-Datei in unseren Code zu importieren\n",
    "- die importierten Daten direkt in Python zu untersuchen\n",
    "- die importierten Daten zu manipulieren und zu bereinigen\n",
    "- eine einfache Visualisierung eines Aktienkurses zu erzeugen\n",
    "\n",
    "Am Ende der Übungsaufgabe sollten wir damit in der Lage sein, weitere gewünschte Aktienkurse zu visualisieren. Gleichzeitig bietet die Aufgabe einen Startpunkt langfristig weitere Methoden zur Datenvisualisierung kennenzulernen.\n",
    "\n",
    "<img src=\"chart.png\" width=\"1000\" >"
   ]
  },
  {
   "cell_type": "markdown",
   "metadata": {},
   "source": [
    "<a name=\"Übersicht\"></a>\n",
    "## Übersicht\n",
    "\n",
    "Die Aufgabe verläuft im Wesentlichen entlang der folgenden Zwischenschritte:\n",
    "\n",
    "[1. Download der Daten](#Download)\n",
    "\n",
    "[2. Importieren und Vorbereiten der Daten](#Import)\n",
    "\n",
    "> [2.1. (Optional) Öffnen in Excel](#Excel)\n",
    "\n",
    "> [2.2. Import mit Pandas](#ImportPandas)\n",
    "\n",
    "> [2.3. Exploration mit Pandas](#ExplorePandas)\n",
    "\n",
    "> [2.4. Zugreifen (Indexing)](#Indexing)\n",
    "\n",
    "> [2.5. Konvertieren](#Convert)\n",
    "\n",
    "> [2.6. Zusammenfassung](#Summary)\n",
    "\n",
    "[3. Visualisierung der Daten](#Visualisierung)\n",
    "\n",
    "\n",
    "Im Verlauf der Übung wird Ihnen immer wieder Beispiel-Code angezeigt, der die folgende Form hat:\n",
    "\n",
    "> ```python\n",
    "> >>> example_command()\n",
    "> Dies wurde durch durch den Befehl auf die Konsole ausgegeben.\n",
    "> ```\n",
    "\n",
    "wobei hinter dem Symbol `>>>` Python-Befehle stehen und darunter oft die Ausgabe dieser Befehle auf die Konsole angezeigt wird. Der Beispiel-Code wie oben kann nicht unmittelbar ausgeführt werden und soll nur als Informationsquelle dienen. Natürlich kann der Code aber in eine Notebook-Zelle kopiert und ausgeführt werden. \n",
    "\n",
    "Weiterhin sind in das Notebook kleinere Aufgaben eingebaut, die auf folgende Weise dargestellt werden:\n",
    "\n",
    "--------------------------------------------------------------------------------------------------------------\n",
    "> **Aufgabe**: *Dies ist eine Beispiel-Aufgabe. Versuchen Sie, sie zu lösen, bevor Sie im Notebook fortfahren.*\n",
    "--------------------------------------------------------------------------------------------------------------\n",
    "\n",
    "Nicht alle Aufgaben sind zwingend, um im Notebook fortfahren zu können. Wenn Sie an einer Stelle nicht weiterkommen, schauen Sie in die beigefügten Lösungen. Für viele Zwischenschritte und Aufgaben existieren außerdem alternative Lösungswege. Verfolgen Sie eigene Lösungswege, wenn Ihnen dies richtig un sinnvoll erscheint und vergleichen Sie mit der vorgeschlagenen Lösung.\n",
    "\n",
    "--------------------------------------------------------------------------------------------------------------\n",
    "--------------------------------------------------------------------------------------------------------------\n",
    "--------------------------------------------------------------------------------------------------------------\n",
    "--------------------------------------------------------------------------------------------------------------\n",
    "--------------------------------------------------------------------------------------------------------------\n"
   ]
  },
  {
   "cell_type": "markdown",
   "metadata": {},
   "source": [
    "<a name=\"Download\"></a>\n",
    "## 1. Download der Daten\n",
    "\n",
    "Unter dem Link http://www.nasdaq.com/symbol/fb/historical lassen sich die Daten herunterladen (oben rechts über der Tabelle befindet sich ein Download-Link. Wir beschränken uns hier auf den Aktienkurs der vergangenen 30 Tage und wählen deshalb links über der Tabelle **1M** aus, um nur einen Monat des Aktienkurs auszuwählen.\n",
    "\n",
    "<img src=\"how_to_download_modded.png\" width=\"1000\" >\n",
    "\n",
    "Am besten speichern wir die Datei mit der Endung *.csv* genau in dem Ordner, in dem sich auch dieses Notebook befindet, damit der Import der Daten besonders einfach zu bewerkstelligen ist. Sollte die Datei nach dem Download in einem Ordner *Downloads* oder ähnlichem gelandet sein, können wir ihn einfach danach in den Ordner verschieben, in dem sich dieses Notebook befindet.\n",
    "\n",
    "--------------------------------------------------------------------------------------------------------------\n",
    "\n",
    "> **Aufgabe**: *Überprüfen Sie danach mit dem folgenden Befehl, ob sich die relevante Datei mit der Endung _.csv_ in demselben Ordner wie dieses Notebook befindet:*\n",
    ">\n",
    "> > ```python\n",
    "> > >>> !ls\n",
    "> > ```\n",
    ">\n",
    "> *Das Ergebnis dieses Befehls sollte in etwa so aussehen (die heruntergeladene Datei wurde* `HistoricalQuotes.csv` *genannt):*\n",
    ">\n",
    "> > ```\n",
    "> > (...)\n",
    "> > Bild1.png\n",
    "> > (...)\n",
    "> > 'Visualisierung von Aktienkursen.ipynb'\n",
    "> > HistoricalQuotes.csv\n",
    "> > (...)\n",
    "> > ```\n",
    "\n",
    "--------------------------------------------------------------------------------------------------------------"
   ]
  },
  {
   "cell_type": "code",
   "execution_count": null,
   "metadata": {},
   "outputs": [],
   "source": []
  },
  {
   "cell_type": "markdown",
   "metadata": {},
   "source": [
    "[(Zurück zur Übersicht)](#Übersicht)\n",
    "\n",
    "--------------------------------------------------------------------------------------------------------------\n",
    "--------------------------------------------------------------------------------------------------------------\n",
    "--------------------------------------------------------------------------------------------------------------\n",
    "--------------------------------------------------------------------------------------------------------------\n",
    "--------------------------------------------------------------------------------------------------------------"
   ]
  },
  {
   "cell_type": "markdown",
   "metadata": {},
   "source": [
    "<a name=\"Import\"></a>\n",
    "## 2. Import und Exploration der Daten\n",
    "\n",
    "<a name=\"Excel\"></a>\n",
    "### 2.1 (Optional) Öffnen in Excel\n",
    "\n",
    "Der Dateityp der heruntergeladenen Datei ist **CSV**, erkennbar an der Dateiendung *.csv* was für *comma-separated values* steht und im Wesentlichen genau beschreibt, was in dieser Datei zu finden ist: eine gewisse Menge an Zeilen, die jeweils aus einer Reihen von (typischerweise numerischen) Werten besteht, die mit Kommata voneinander getrennt werden.\n",
    "\n",
    "Bei diesem Dateityp handelt es sich um einen der häufigsten Dateitypen überhaupt. Deshalb ist zunächst gar kein Python erforderlich, um diese Datei und die darin gespeicherten Werte zu untersuchen. Geöffnet werden kann die Datei alternativ zum Beispiel durch eine wesentlich bekanntere Software - *Excel*. Wenn *Excel* oder ein vergleichbares Programm auf unserem Rechner installiert ist, können wir versuchen, die Datei sofort durch Doppelklick zu öffnen oder mit *Excel* zu öffnen.\n",
    "\n",
    "--------------------------------------------------------------------------------------------------------------\n",
    "\n",
    "> **Aufgabe**: *Falls Sie über Excel oder ein ähnliches Programm verfügen, versuchen Sie die Datei zu öffnen. Falls es funktioniert, machen Sie sich mit den Daten dort vertraut. Falls nicht, fahren Sie einfach weiter fort.*\n",
    "\n",
    "--------------------------------------------------------------------------------------------------------------\n",
    "\n",
    "Unabhängig davon, ob ein solches Programm bei uns installiert ist oder ob das Öffnen funktioniert hat, hier eine Darstellung des Inhalts der Datei, wie sie uns in *Excel* einem vergleichbaren Programm erscheinen würde:\n",
    "\n",
    "<img src=\"excel_beispiel.png\" width=\"800\" >\n",
    "\n",
    "\n",
    "Die entscheidende Erkenntnis dabei: Der Inhalt der Datei ist im Wesentlichen eine **Tabelle**! Diese Tabelle hat 5 Spalten und durch die Überschriften der Spalten sind sofort die Bedeutung der Werte erkennbar: Es handelt sich um die Spalten **Date**, **Close/Last**, **Volume**, **Open**, **High**, **Low**. Von besonderer Relevanz, wie wir später sehen werden, ist die Spalte **Date**: dort ist mit dem vollen Datum der Kurstag angegeben. Diesem Datum zugeordnet sind die verbliebenen Werte der anderen Spalten. Für Samstage und Sonntage gibt es keine Einträge in der Tabelle.\n",
    "\n",
    "[(Zurück zur Übersicht)](#Übersicht)\n",
    "\n",
    "--------------------------------------------------------------------------------------------------------------\n",
    "--------------------------------------------------------------------------------------------------------------\n",
    "--------------------------------------------------------------------------------------------------------------"
   ]
  },
  {
   "cell_type": "markdown",
   "metadata": {},
   "source": [
    "<a name=\"ImportPandas\"></a>\n",
    "### 2.2 Import mit Pandas\n",
    "\n",
    "Ein zentrales Problem jeder Datenanalyse ist der Import der Daten, das heißt das Einladen der relevanten Dateien in den Arbeitsspeicher und das Verfügbarmachen der Daten in Python in einem geeigneten Format.\n",
    "\n",
    "Für diesen Zwischenschritt gibt es fast ebenso viele Optionen wie es verschiedene Arten von Daten gibt.\n",
    "\n",
    "Wir beschränken uns hier auf eine einzige, und das ist die speziell für Datenanalyse gemachte Bibliothek **Pandas**. Zunächst ist es erforderlich, die Bibliothek zu importieren, und das geschieht auf folgende Weise:"
   ]
  },
  {
   "cell_type": "code",
   "execution_count": 1,
   "metadata": {
    "scrolled": true,
    "tags": [
     "hide-input"
    ]
   },
   "outputs": [],
   "source": [
    "import pandas as pd"
   ]
  },
  {
   "cell_type": "markdown",
   "metadata": {},
   "source": [
    "Die Syntax dieses Befehls ist olgendermaßen zu verstehen: mit `import pandas` wird die entsprechende Bibliothek importiert - die Bibliothek muss hierzu installiert sein und der Name muss exakt stimmen - und mit dem Zusatz `as pd` wird der Bibliothek ein Kürzel zugewiesen, über die wir im Weiteren die Bibliothek ansprechen können. Tatsächlich wäre dieser Zusatz nicht zwingend nötig, ist aber eine Konvention - und Konventionen zählen in Python viel, weil sie die Lesbarkeit des Codes erhöhen. Wir halten uns daran.\n",
    "\n",
    "Wichtig ist: wollen wir auf Funktionen und Klassen dieser Bibliothek zugreifen, tun wir dies, indem wir `pd.` dieser Funktion voranstellen. Hier einige Beispiele:\n",
    "\n",
    ">```python\n",
    ">import pandas as pd\n",
    ">pd.DataFrame\n",
    ">pd.Series\n",
    ">pd.merge\n",
    ">```\n",
    "\n",
    "Die Funktion, nach der wir suchen, ist speziell für das Einlesen von **CSV**-Dateien konzipiert. Sie heißt tatsächlich genau so: `pd.read_csv`. Die Funktion `pd.read_csv` ist zwar eine bekannte und häufig verwendete Funktion in **Pandas**, aber da niemand jemals alle Funktionen einer Bibliothek kennen kann, tun wir auch hier so, als ob wir diese Funktion nur zufällig gefunden und wir den Verdacht haben, sie könnte uns helfen, obwohl wir ihre genaue Funktionsweise noch nicht kennen.\n",
    "\n",
    "In solchen Fällen sollte unser erster Schritt das Aufrufen des sogannten *Docstring* sein - eine Kurzzusammenfassung der Funktionsweise einer Funktion, die für jede gut dokumentierte Bibliothek existiert. Diese Kurzzusammenfassung enthält\n",
    "- eine kurze Bebschreibung der Funktionsweise\n",
    "- ein Liste der wesentlichen oder sogar aller Argumente der Funktion\n",
    "- eine Aufstellung darüber, welche Argumente der Funktion zwingend und welche optional sind\n",
    "- eine Beschreibung, was jedes Argument bewirkt und welche Werte möglich sind\n",
    "- einige Beispiele zur Verwendung der Funktion\n",
    "\n",
    "Vor allem der letzte Punkt kann oft besonders hilfreich sein. Der Docstring einer Funktion lässt sich in einem Jupyter Notebook besonders einfach aufrufen, nämlich so:\n",
    "\n",
    "> ```python\n",
    "> >>> pd.read_csv?\n",
    "> ```\n",
    "\n",
    "Alternativ lässt sich die Dokumentation auch unter folgendem Link aufrufen: https://pandas.pydata.org/pandas-docs/dev/reference/api/pandas.read_csv.html\n",
    "\n",
    "-------------------------------------------------------------------------------------------------------------\n",
    "\n",
    "> **Aufgabe**: *Versuchen wir allein durch den Docstring herauszufinden, wie sich die Funktion* `pd.read_csv` *benutzen lässt. Besonders interessant ist das Beispiel ganz am Ende des Docstrings.*\n",
    "\n",
    "> **Aufgabe**: *Laden Sie die Daten durch die Funktion* `pd.read_csv` *ein. Speichern Sie den Rückgabewert der Funktion in einer Variablen* `data`.\n",
    "\n",
    "-------------------------------------------------------------------------------------------------------------"
   ]
  },
  {
   "cell_type": "code",
   "execution_count": 33,
   "metadata": {},
   "outputs": [],
   "source": [
    "# data = pd.read_csv(...)"
   ]
  },
  {
   "cell_type": "markdown",
   "metadata": {},
   "source": [
    "[(Zurück zur Übersicht)](#Übersicht)\n",
    "\n",
    "--------------------------------------------------------------------------------------------------------------\n",
    "--------------------------------------------------------------------------------------------------------------\n",
    "--------------------------------------------------------------------------------------------------------------"
   ]
  },
  {
   "cell_type": "markdown",
   "metadata": {},
   "source": [
    "<a name=\"ExplorePandas\"></a>\n",
    "### 2.3 Exploration mit Pandas"
   ]
  },
  {
   "cell_type": "markdown",
   "metadata": {},
   "source": [
    "Wenn dann eine Variable `data` existiert, lässt sich diese sofort anzeigen:"
   ]
  },
  {
   "cell_type": "code",
   "execution_count": 34,
   "metadata": {},
   "outputs": [],
   "source": [
    "# data"
   ]
  },
  {
   "cell_type": "markdown",
   "metadata": {},
   "source": [
    "Hierbei handelt es sich um ein sogenanntes *DataFrame* - das grundlegende Objekt der Pandas-Bibliothek. Durch den folgenden Aufruf lässt sich der Typ des Objekts überprüfen:\n",
    "\n",
    "> ```python\n",
    "> >>> type(data)\n",
    "> ```\n",
    "\n",
    "Das Ergebnis sollte `pandas.core.frame.DataFrame` sein."
   ]
  },
  {
   "cell_type": "code",
   "execution_count": null,
   "metadata": {},
   "outputs": [],
   "source": []
  },
  {
   "cell_type": "markdown",
   "metadata": {},
   "source": [
    "Das Objekt `DataFrame` in Pandas ist ein richtiger Alleskönner. Wir werden später sehen, dass mit jedem `DataFrame` eine Reihe von Funktionen mitgeliefert werden, die uns einen großen Teil der Arbeit, den wir uns andernfalls in Python machen müssten, abnehmen. Dazu gehören auch Funktionen zur Visualisierung. Für den Moment aber sollte zunächst nur eines ins Auge fallen: ein `DataFrame` erscheint zunächst einmal in der Darstellung oben als eine **Tabelle**: es gibt eine gewisse Menge an Zeilen und eine gewisse Menge an Spalten. Letztere sind überschriftet, erneut finden wir **Date**, **Close/Last**, **Volume**, **Open**, **High** und **Low**. Außerdem sind auch die Zeilen durchnummeriert.\n",
    "\n",
    "Was aber sind die dort gespeicherten Werte und wie lässt sich darauf zugreifen? Eine Frage ist hier besonders relevant: um welchen Datentyp handelt es sich bei den gespeicherten Werten?\n",
    "\n",
    "Diesen Fragen nähern wir uns im nächsten Abschnitt. Zuvor jedoch führen wir ein kleineres Beispiel ein, anhand dessen wir im weiteren Verlauf zusätzliche Verarbeitungsschritte illustrieren können. Dieses Beispiel werden wir durch den Rest dieses Notebooks tragen und immer wieder darauf zurückkommen. Es ist nicht nötig, den folgenden Code wirklich auszuführen. Vielmehr sollten die am Beispiel-Code gezeigten Methoden auf unsere Aktienkurs-Daten übertragen werden.\n",
    "\n",
    "Hier der Beispiel-Code, mit dem wir ein weiteres, kleines `DataFrame` erzeugen, das ebenso wie unsere Aktienkurs-Daten als Tabelle darstellbar ist:\n",
    "\n",
    "> ```python\n",
    "> >>> example_data = pd.DataFrame({\"Kilometerstand\": [\"123K\", \"85K\", \"73K\"],\n",
    "> ...                              \"Verkaufspreis\": [12000, 14000, 8000],\n",
    "> ...                              \"Baujahr\": [\"2006\", \"2009\", \"1999\"]})\n",
    "> >>> print(example_data)\n",
    ">  Kilometerstand  Verkaufspreis  Baujahr\n",
    "> 0           123K          12000     2006\n",
    "> 1            85K          14000     2009\n",
    "> 2            73K           8000     1999\n",
    "> ```\n",
    "\n",
    "[(Zurück zur Übersicht)](#Übersicht)\n",
    "\n",
    "--------------------------------------------------------------------------------------------------------------\n",
    "--------------------------------------------------------------------------------------------------------------\n",
    "--------------------------------------------------------------------------------------------------------------"
   ]
  },
  {
   "cell_type": "markdown",
   "metadata": {},
   "source": [
    "<a name=\"Indexing\"></a>\n",
    "### 2.4 Zugreifen (Indexing)\n",
    "\n",
    "Der Zugriff auf die Elemente eines DataFrame ist auf verschiedenste Weise möglich. In diesem Abschnitt lernen wir:\n",
    "- wie sich auf die Überschriften der Spalten eines `DataFrame` anzeigen lassen\n",
    "- wie sich auf eine bestimmte Spalte eines `DataFrame` zugreifen lässt\n",
    "- wie sich auf einzelne Elemente eines `DataFrame` zugreifen lässt"
   ]
  },
  {
   "cell_type": "markdown",
   "metadata": {},
   "source": [
    "#### Wie lassen sich auf die Überschriften der Spalten anzeigen?\n",
    "\n",
    "Führen wir dies anhand eines Beispiels durch:\n",
    "\n",
    "> ```python\n",
    "> >>> example_data.columns\n",
    "> Index(['Kilometerstand', 'Verkaufspreis', 'Baujahr'], dtype='object')\n",
    "> ```\n",
    "\n",
    "-------------------------------------------------------------------------------------------------------------\n",
    "\n",
    "> **Aufgabe**: *Lassen Sie sich die Spaltenüberschriften für die Aktienkurs-Daten anzeigen.*\n",
    "\n",
    "-------------------------------------------------------------------------------------------------------------"
   ]
  },
  {
   "cell_type": "code",
   "execution_count": null,
   "metadata": {},
   "outputs": [],
   "source": []
  },
  {
   "cell_type": "markdown",
   "metadata": {},
   "source": [
    "#### Wie können wir auf eine bestimmte Spalte zugreifen?\n",
    "\n",
    "Wollen wir in unserem Beispiel-Datensatz zum Beispiel auf die Spalte \"Verkaufspreis\" zugreifen, tun wir dies so:\n",
    "\n",
    "> ```python\n",
    "> >>> example_data[\"Verkaufspreis\"]\n",
    "> 0    12000\n",
    "> 1    14000\n",
    "> 2     8000\n",
    "> Name: Verkaufspreis, dtype: int64\n",
    "> ```\n",
    "\n",
    "-------------------------------------------------------------------------------------------------------------\n",
    "\n",
    "> **Aufgabe**: *Greifen Sie auf die Spalte **Open** zu (Tipp: Achten Sie auf die genaue Schreibweise der Spaltenüberschrift)*\n",
    "\n",
    "-------------------------------------------------------------------------------------------------------------"
   ]
  },
  {
   "cell_type": "code",
   "execution_count": null,
   "metadata": {},
   "outputs": [],
   "source": []
  },
  {
   "cell_type": "markdown",
   "metadata": {},
   "source": [
    "#### Wie können wir auf ein bestimmtes Element zugreifen?\n",
    " \n",
    "Auch hier ist der Vorgang am besten anhand eines Beispiels erklärt:\n",
    "\n",
    "> ```python\n",
    "> >>> example_data.loc[2, \"Verkaufspreis\"]\n",
    "> 8000\n",
    "> ```\n",
    "\n",
    "Das Attribut `loc` ist dann eine gute Option, wenn wir gleichzeitig auf das Element in einer bestimmten Zeile (hier `2`) und einer bestimmten Spalte zugreifen wollen (hier `\"Verkaufspreis\"`). Diese Variante ist aber davon abhängig, dass die Zeilen auch wirklich durchnummeriert sind, wie wir es in einem früheren Abschnitt festgestellt haben.\n",
    "\n",
    "-------------------------------------------------------------------------------------------------------------\n",
    "\n",
    "> **Aufgabe**: *Greifen Sie in den Aktienkurs-Daten auf den höchsten Kurswert der Aktie in der sechsten Zeile zu (\"sechste Zeile\" bezieht sich hier auf die alltägliche Zählweise, in der wir bei 1 anfangen zu zählen) und geben Sie den entsprechenden Wert aus.*\n",
    "\n",
    "-------------------------------------------------------------------------------------------------------------"
   ]
  },
  {
   "cell_type": "code",
   "execution_count": null,
   "metadata": {},
   "outputs": [],
   "source": []
  },
  {
   "cell_type": "markdown",
   "metadata": {},
   "source": [
    "-------------------------------------------------------------------------------------------------------------\n",
    "\n",
    "> **Aufgabe**: *Lassen Sie sich nun den Datentyp dieses Wertes anzeigen. Was fällt Ihnen außerdem auf?*\n",
    "\n",
    "-------------------------------------------------------------------------------------------------------------"
   ]
  },
  {
   "cell_type": "code",
   "execution_count": null,
   "metadata": {},
   "outputs": [],
   "source": []
  },
  {
   "cell_type": "markdown",
   "metadata": {},
   "source": [
    "Im Zuge dieser kleinen Übung haben wir einige Möglichkeit kennengelernt, auf bestimmte Spaltennamen, Spalten oder sogar Elemente zuzugreifen. Diese Operationen (und auch weitere Alternativen, die wir hier noch nicht kennenlernen) gehören zum Standardrepertoire in der Arbeit mit Pandas oder mit Daten allgemein.\n",
    "\n",
    "Doch gleichzeitig hatten wir bei dieser Übung ein konkretes Ziel: wir wollten herausfinden, welchen Datentyp die gespeicherten Werte haben. Es stellt sich dabei heraus: der Datentyp ist `str`. Dies scheint der Formatierung der Daten geschuldet zu sein, in denen den USD-Beträgen ein `\"$\"` vorausgeht. Außerdem gibt es ein weiteres Problem: irgendwie scheint jedem Wert und jeder Spaltenüberschrift ein Leerzeichen vorauszugehen, das im Zuge des Imports erhalten geblieben ist.\n",
    "\n",
    "Probleme wie dieses gehören zum Standard in der Arbeit mit Daten. Es stellt sich heraus, dass der Import der Daten, wie wir ihn ausgeführt haben, doch nicht ganz das Ende der Geschichte ist und wir müssen erneut einen Schritt zurücktreten.\n",
    "\n",
    "Dann aber müssen wir uns damit beschäftigen, wie wir mit dem vorausgehenden `\"$\"` in unseren Werten umgehen wollen. Beides behandeln wir im nächsten Abschnitt.\n",
    "\n",
    "[(Zurück zur Übersicht)](#Übersicht)\n",
    "\n",
    "--------------------------------------------------------------------------------------------------------------\n",
    "--------------------------------------------------------------------------------------------------------------\n",
    "--------------------------------------------------------------------------------------------------------------"
   ]
  },
  {
   "cell_type": "markdown",
   "metadata": {},
   "source": [
    "<a name=\"Convert\"></a>\n",
    "### 2.5 Konvertieren\n",
    "\n",
    "In diesem Abschnitt werden wir lernen:\n",
    "- wie sich der Import der Daten anpassen lässt, um vorausgehende Leerzeichen zu ignorieren\n",
    "- wie sich `str` Werte in unseren Daten in numerische Werte (z.B. `float`) konvertieren lassen"
   ]
  },
  {
   "cell_type": "markdown",
   "metadata": {},
   "source": [
    "#### Wie lässt sich der Import der Daten anpassen?\n",
    "\n",
    "Probleme wie das unsere sind unvermeidbar in der Arbeit mit Daten. Manche dieser Probleme sind für unseren Datensatz einzigartig und wir müssen spezialisierte Lösungen entwerfen. Andere dieser Probleme treten so häufig auf, dass vorgefertigte Lösungen existieren. Wenn letzteres der Fall ist, besteht die Hoffnung, das Pandas bereits eine Lösung bereithält. Wir müssen diese nur finden. Vielleicht lässt sich schon beim Import der Daten auf die vorausgehenden Leerzeichen hinweisen? Die Funktion `pd.read_csv` und deren Docstring ist erneut unser Anlaufpunkt. Tatsächlich gibt es dort ein Argument, das exakt dafür gemacht ist, unser Problem zu lösen und die vorausgehenden Leerzeichen zu ignorieren.\n",
    "\n",
    "--------------------------------------------------------------------------------------------------------------\n",
    "\n",
    "> **Aufgabe**: *Finden Sie das Argument zum Ignorieren vorausgehender Leerzeichen im Docstring.*\n",
    "\n",
    "--------------------------------------------------------------------------------------------------------------"
   ]
  },
  {
   "cell_type": "code",
   "execution_count": null,
   "metadata": {},
   "outputs": [],
   "source": []
  },
  {
   "cell_type": "markdown",
   "metadata": {},
   "source": [
    "#### Wie lassen sich `str`-Werte in `float`-Werte umwandeln?\n",
    "\n",
    "Die Umwandlung von Datentypen funktioniert in Pandas durch eine Funktion, die in jedem DataFrame mitgeliefert wird. Sie heißt `astype`. Wir betrachten sofort ein Beispiel:\n",
    "\n",
    "\n",
    "> ```python\n",
    "> >>> example_data[\"Baujahr\"]\n",
    "> 0    2006\n",
    "> 1    2009\n",
    "> 2    1999\n",
    "> Name: Baujahr, dtype: object\n",
    "> ```\n",
    "\n",
    "So sieht das Baujahr für unser Beispiel aus. Bemerkenswert ist die Tatsache, dass der `dtype`, also der Datentyp dieser Spalte als `object` angegeben wird (was hier gleichbedeutend mit `str` ist) und nicht als ein numerischer Datentyp. Wohingegen durch Benutzung von `astype` Folgendes passiert:\n",
    "\n",
    "> ```python\n",
    "> >>> example_data[\"Baujahr\"].astype(float)\n",
    "> 0    2006.0\n",
    "> 1    2009.0\n",
    "> 2    1999.0\n",
    "> Name: Baujahr, dtype: float64\n",
    "> ```\n",
    "\n",
    "Wir sehen, dass sich der Datentyp verändert hat (außerdem werden nun für das Baujahr Nachkommastellen angegeben. Wir hätten auch in `int` konvertieren können, aber der Effekt wäre weniger deutlich gewesen).\n",
    "\n",
    "--------------------------------------------------------------------------------------------------------------\n",
    "\n",
    "> **Aufgabe**: *Versuchen Sie nun, mit* `astype` *, die Spalte **Open** in* `float` *zu konvertieren. Welche Fehlermeldung erhalten Sie und warum?*\n",
    "\n",
    "--------------------------------------------------------------------------------------------------------------"
   ]
  },
  {
   "cell_type": "code",
   "execution_count": null,
   "metadata": {},
   "outputs": [],
   "source": []
  },
  {
   "cell_type": "markdown",
   "metadata": {},
   "source": [
    "Wir stoßen dabei auf ein weiteres Problem, das wir schon zuvor identifiziert hatten: das vorausgehende `\"$\"` in unseren Werten. Es gibt keine andere Möglichkeit, als dieses Zeichen zu löschen, bevor wir den Datentyp konvertieren. Das allerdings gibt uns eine ideale Gelegenheit, eine neue, wichtige Funktion in Pandas kennenzulernen: diese heißt `apply`.\n",
    "\n",
    "Die Funktion `apply` in Pandas ist immer dann einsetzbar, wenn wir eine Methode haben, einen bestimmten Wert in unseren Daten umzuwandeln, und diese Methode auf sämtliche Werte in unserem Datensatz oder auf sämtliche Werte einer Spalte anwenden wollen. Hier ein Beispiel:\n",
    "\n",
    "> ```python\n",
    "> >>> def convert_kilometers(kilometers):\n",
    "> ...     kilometers = kilometers.replace(\"K\", \"000\")\n",
    "> ...     return kilometers\n",
    "> ...\n",
    "> >>> example_data[\"Kilometerstand\"].apply(convert_kilometers)\n",
    "> 0    123000\n",
    "> 1     85000\n",
    "> 2     73000\n",
    "> Name: Kilometerstand, dtype: object\n",
    "> ```\n",
    "\n",
    "Wir definieren also eine Funktion, die nur vorgibt, wie ein einzelner Wert umgewandelt werden soll, und durch Kombination mit `apply` können sofort alle Werte einer Spalte umgewandelt werden.\n",
    "\n",
    "--------------------------------------------------------------------------------------------------------------\n",
    "\n",
    "> **Aufgabe**: *Vervollständigen Sie die untenstehende Funktion* `convert_dollar_string`*. Die Funktion soll einen einzigen* `str`*-Wert als Input erhalten, dort das*  `\"$\"`*-Zeichen entfernen und den bereinigten Werten zurückgeben.*\n",
    "\n",
    "--------------------------------------------------------------------------------------------------------------"
   ]
  },
  {
   "cell_type": "code",
   "execution_count": 32,
   "metadata": {},
   "outputs": [],
   "source": [
    "def convert_dollar_string(dollar_string):\n",
    "    pass\n",
    "\n",
    "\n",
    "# data[\"Open\"].apply(convert_dollar_string)"
   ]
  },
  {
   "cell_type": "markdown",
   "metadata": {},
   "source": [
    "[(Zurück zur Übersicht)](#Übersicht)\n",
    "\n",
    "--------------------------------------------------------------------------------------------------------------\n",
    "--------------------------------------------------------------------------------------------------------------\n",
    "--------------------------------------------------------------------------------------------------------------"
   ]
  },
  {
   "cell_type": "markdown",
   "metadata": {},
   "source": [
    "<a name=\"Summary\"></a>\n",
    "### 2.6 Zusammenfassung\n",
    "\n",
    "Zuletzt müssen die nunmehr korrekt umgewandelten Daten zurück in unsere Tabelle, unser *DataFrame* geschrieben werden. Dies geht, bezogen auf unser Beispiel, so:\n",
    "\n",
    "> ```python\n",
    "> >>> example_data[\"Kilometerstand\"] = example_data[\"Kilometerstand\"].apply(convert_kilometers).astype(float)\n",
    "> >>> example_data[\"Kilometerstand\"]\n",
    "> 0    123000.0\n",
    "> 1     85000.0\n",
    "> 2     73000.0\n",
    "> Name: Kilometerstand, dtype: float64\n",
    "> ```\n",
    "\n",
    "--------------------------------------------------------------------------------------------------------------\n",
    "\n",
    "> **Aufgabe**: *Fügen Sie nun die Ergebnisse der vorherigen Abschnitte zusammen:*\n",
    "> - *Laden Sie die Daten erneut, während Sie die Leerzeichen entsprechend behandeln*\n",
    "> - *Für die Spalten **Open**, **Low**, **High** und **Close/Last**:*\n",
    ">     - *Löschen Sie überflüssige* `\"$\"`*-Zeichen*\n",
    ">     - *Konvertieren Sie in `float`*\n",
    "> - *Überschreiben Sie die ursprünglichen Daten mit den umgewandelten Daten*\n",
    "\n",
    "--------------------------------------------------------------------------------------------------------------"
   ]
  },
  {
   "cell_type": "code",
   "execution_count": null,
   "metadata": {},
   "outputs": [],
   "source": []
  },
  {
   "cell_type": "markdown",
   "metadata": {},
   "source": [
    "[(Zurück zur Übersicht)](#Übersicht)\n",
    "\n",
    "--------------------------------------------------------------------------------------------------------------\n",
    "--------------------------------------------------------------------------------------------------------------\n",
    "--------------------------------------------------------------------------------------------------------------\n",
    "--------------------------------------------------------------------------------------------------------------\n",
    "--------------------------------------------------------------------------------------------------------------"
   ]
  },
  {
   "cell_type": "markdown",
   "metadata": {},
   "source": [
    "<a name=\"Visualisierung\"></a>\n",
    "## 3. Visualisierung der Daten\n",
    "\n",
    "Nachdem wir im vorherigen Kapitel die Daten soweit bearbeitet haben, dass sie für uns nutzbar sind, lernen wir in diesem Kapitel:\n",
    "- wie sich Pandas zur Visualisierung nutzen lässt\n",
    "- wie sich eine Grafik anpassen lässt (Achsenbeschriftungen, Farben, etc.)\n",
    "\n",
    "Pandas für Visualisierungen zu nutzen bedeutet vor allem, die richtigen mitgelieferten Funktionen zu finden und diese korrekt zu benutzen. Unser Ziel ist zunächst die Visualisierung des Verlaufs der Aktie, zum Beispiel anhand des Wertes **Open**, also dem täglichen Eröffnungswert der Aktie. Wir wollen diesen Wert über die Zeit hinweg darstellen. Wir brauchen also eine Möglichkeit, einen y-Wert (hier: der Wert der Aktie) gegen einen x-Wert (hier: das Datum) in einer Grafik anzutragen. Die Funktion in Pandas, die das leistet, heißt: `plot`. Sie ist Teil eines jeden `DataFrame`. \n",
    "\n",
    "--------------------------------------------------------------------------------------------------------------\n",
    "\n",
    "> **Aufgabe**: *Rufen Sie den Docstring der* `plot`*-Funktion auf, also*\n",
    "> ```python\n",
    "> >>> data.plot?\n",
    "> ```\n",
    "> *Können Sie damit bereits die Funktion anwenden?*\n",
    "\n",
    "--------------------------------------------------------------------------------------------------------------\n",
    "\n",
    "Wieder bietet sich der Vergleich mit unserem Beispiel an. Dort könnte es eine interessante Visualisierung sein, den Verkaufspreis abhängig vom Kilometerstand zu visualisieren. Dies würden wir auf folgende Weise tun:\n",
    "\n",
    "> ```python\n",
    "> >>> example_data.plot(x=\"Kilometerstand\", y=\"Verkaufspreis\")\n",
    "> ```\n",
    "> <img src=\"example_plot.png\" width=\"400\" >\n",
    "\n",
    "\n",
    "--------------------------------------------------------------------------------------------------------------\n",
    "\n",
    "> **Aufgabe**: *Stellen Sie nun mit* `plot` *den Kurswert* __Open__ *in Abhängigkeit vom Datum dar.*\n",
    "\n",
    "--------------------------------------------------------------------------------------------------------------"
   ]
  },
  {
   "cell_type": "code",
   "execution_count": null,
   "metadata": {},
   "outputs": [],
   "source": []
  },
  {
   "cell_type": "markdown",
   "metadata": {},
   "source": [
    "Die Funktion `plot` bietet vielfältige Möglichkeiten, die Grafik weiter anzupassen. Dies ist im Wesentlichen dadurch möglich, der Funktion weitere Argumente zu übergeben. Interessant könnte zum Beispiel eine Achsenbeschriftung sein (die, wie oben sichtbar, zum Teil auch automatisch generiert wird):\n",
    "\n",
    "> ```python\n",
    "> >>> example_data.plot(x=\"Kilometerstand\", y=\"Verkaufspreis\", ylabel=\"EUR\")\n",
    "> ```\n",
    "> <img src=\"example_plot2.png\" width=\"400\" >\n",
    "\n",
    "--------------------------------------------------------------------------------------------------------------\n",
    "\n",
    "> **Aufgabe (optional)**: *Experimentieren Sie mit den Argumenten der Funktion* `plot`. *Der Docstring der Funktion gibt Ihnen einen Einblick in die Möglichkeiten der Funktion. Interessant könnten sein:*\n",
    "> - `ylabel`\n",
    "> - `xlabel`\n",
    "> - `color`\n",
    "> - `kind`\n",
    "> - `figsize`\n",
    "\n",
    "--------------------------------------------------------------------------------------------------------------"
   ]
  },
  {
   "cell_type": "code",
   "execution_count": null,
   "metadata": {},
   "outputs": [],
   "source": []
  },
  {
   "cell_type": "markdown",
   "metadata": {},
   "source": [
    "[(Zurück zur Übersicht)](#Übersicht)"
   ]
  }
 ],
 "metadata": {
  "kernelspec": {
   "display_name": "Python 3",
   "language": "python",
   "name": "python3"
  },
  "language_info": {
   "codemirror_mode": {
    "name": "ipython",
    "version": 3
   },
   "file_extension": ".py",
   "mimetype": "text/x-python",
   "name": "python",
   "nbconvert_exporter": "python",
   "pygments_lexer": "ipython3",
   "version": "3.8.5"
  }
 },
 "nbformat": 4,
 "nbformat_minor": 4
}
